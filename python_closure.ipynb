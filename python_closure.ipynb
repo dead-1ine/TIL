{
 "cells": [
  {
   "cell_type": "markdown",
   "metadata": {},
   "source": [
    "# Closure에 대한 이해\n",
    "---\n",
    "### Closure 단어의 의미는?\n",
    "---\n",
    "- 파이썬에서 클로저는 '자신을 둘러싼 스코프(네임스페이스)의 상태값을 기억하는 함수다.\n",
    "- 어떤 함수가 클로저이기 위해서는 다음의 세 가지 조건을 만족해야 한다.\n",
    "  1. 해당 함수는 어떤 함수 내의 중첩의 함수여야 한다.\n",
    "  2. 해당 함수는 자신을 둘러싼(enclose) 함수 내의 상태값을 반드시 참조해야 한다.\n",
    "  3. 해당 함수를 둘러싼 함수는 이 함수를 반환해야 한다."
   ]
  },
  {
   "cell_type": "markdown",
   "metadata": {},
   "source": [
    "- 이해를 위한 예시"
   ]
  },
  {
   "cell_type": "code",
   "execution_count": null,
   "metadata": {},
   "outputs": [],
   "source": [
    "def in_cache(func):\n",
    "    cache = {} # free_var\n",
    "    def wrapper(n):\n",
    "        if n in cache:\n",
    "            return cache[n]\n",
    "        else:\n",
    "            cache[n] = func(n)\n",
    "            return cache[n]\n",
    "    return wrapper"
   ]
  },
  {
   "cell_type": "markdown",
   "metadata": {},
   "source": [
    "1. in_cache 함수 내의 중첩된 함수익,\n",
    "2. Enclosing하는 in_cache 스코프의 cache라는 상태값을 참조하고 있으며,\n",
    "3. 자신을 둘러싼 함수는 자신(wrapper)을 반환하고 있다."
   ]
  },
  {
   "cell_type": "markdown",
   "metadata": {},
   "source": [
    "### Decorator\n",
    "---"
   ]
  },
  {
   "cell_type": "code",
   "execution_count": 2,
   "metadata": {},
   "outputs": [],
   "source": [
    "def deco(func):\n",
    "    print(func)\n",
    "    def main(*args):\n",
    "        print(\"함수 시작\")\n",
    "        run_func = func(*args)\n",
    "        print(\"함수 종료\")\n",
    "    \n",
    "        return \"끝\"\n",
    "    return main"
   ]
  },
  {
   "cell_type": "code",
   "execution_count": 4,
   "metadata": {},
   "outputs": [
    {
     "name": "stdout",
     "output_type": "stream",
     "text": [
      "<function print_plus at 0x105f67310>\n",
      "함수 시작\n",
      "test\n",
      "함수 종료\n"
     ]
    },
    {
     "data": {
      "text/plain": [
       "'끝'"
      ]
     },
     "execution_count": 4,
     "metadata": {},
     "output_type": "execute_result"
    }
   ],
   "source": [
    "@deco\n",
    "def print_plus():\n",
    "    print(\"test\")\n",
    "    \n",
    "print_plus()"
   ]
  }
 ],
 "metadata": {
  "interpreter": {
   "hash": "31f2aee4e71d21fbe5cf8b01ff0e069b9275f58929596ceb00d14d90e3e16cd6"
  },
  "kernelspec": {
   "display_name": "Python 3.8.9 64-bit",
   "language": "python",
   "name": "python3"
  },
  "language_info": {
   "codemirror_mode": {
    "name": "ipython",
    "version": 3
   },
   "file_extension": ".py",
   "mimetype": "text/x-python",
   "name": "python",
   "nbconvert_exporter": "python",
   "pygments_lexer": "ipython3",
   "version": "3.8.9"
  },
  "orig_nbformat": 4
 },
 "nbformat": 4,
 "nbformat_minor": 2
}
