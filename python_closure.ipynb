{
 "cells": [
  {
   "cell_type": "markdown",
   "metadata": {},
   "source": [
    "# Closure에 대한 이해\n",
    "---\n",
    "### Closure 단어의 의미는?\n",
    "---\n",
    "- 파이썬에서 클로저는 '자신을 둘러싼 스코프(네임스페이스)의 상태값을 기억하는 함수다.\n",
    "- 어떤 함수가 클로저이기 위해서는 다음의 세 가지 조건을 만족해야 한다.\n",
    "  1. 해당 함수는 어떤 함수 내의 중첩의 함수여야 한다.\n",
    "  2. 해당 함수는 자신을 둘러싼(enclose) 함수 내의 상태값을 반드시 참조해야 한다.\n",
    "  3. 해당 함수를 둘러싼 함수는 이 함수를 반환해야 한다."
   ]
  },
  {
   "cell_type": "markdown",
   "metadata": {},
   "source": [
    "- 이해를 위한 예시"
   ]
  },
  {
   "cell_type": "code",
   "execution_count": null,
   "metadata": {},
   "outputs": [],
   "source": [
    "def in_cache(func):\n",
    "    cache = {}\n",
    "    def wrapper(n):\n",
    "        if n in cache:\n",
    "            return cache[n]\n",
    "        else:\n",
    "            cache[n] = func(n)\n",
    "            return cache[n]\n",
    "    return wrapper"
   ]
  }
 ],
 "metadata": {
  "interpreter": {
   "hash": "31f2aee4e71d21fbe5cf8b01ff0e069b9275f58929596ceb00d14d90e3e16cd6"
  },
  "kernelspec": {
   "display_name": "Python 3.8.9 64-bit",
   "language": "python",
   "name": "python3"
  },
  "language_info": {
   "name": "python",
   "version": "3.8.9"
  },
  "orig_nbformat": 4
 },
 "nbformat": 4,
 "nbformat_minor": 2
}
