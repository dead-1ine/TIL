{
 "cells": [
  {
   "cell_type": "markdown",
   "metadata": {},
   "source": [
    "# 1. 이항 분포란\n",
    "- 연속된 n번의 독립시행에서 각 시행이 성공할(일어날) 확률 p를 가질 때 만들어지는 이산 확률 분포이다.\n",
    "- 이 때 성공한 횟수를 X라는 확률변수로 나타내면, 확률변수 X는 이항 분포를 따르고, 확률 질량 함수(probability density function)는 아래와 같다."
   ]
  },
  {
   "cell_type": "markdown",
   "metadata": {},
   "source": [
    "## 2. 이항 분포 그리기"
   ]
  },
  {
   "cell_type": "code",
   "execution_count": null,
   "metadata": {},
   "outputs": [],
   "source": [
    "import numpy as np\n",
    "import matplotlib.pyplot as plt\n",
    "from math import factorial\n",
    "\n",
    "# Probability density of the binomial distribution\n",
    "def bin_dist(k, n, p):\n",
    "    \"\"\"p의 확률을 갖는 n회 시행에서 k회 일어날 확률을 반환한다.\n",
    "\n",
    "    Args:\n",
    "        k (_type_): 일어날 횟수\n",
    "        n (_type_): 시행할 횟수\n",
    "        p (_type_): 확률\n",
    "    \"\"\"\n",
    "    nck = factorial(n) / (factorial(k) * factorial(n - k))\n",
    "    pd = nck * p**k (1 - p)**(n - k)\n",
    "    return pd\n",
    "\n",
    "\n",
    "x = np.arrange(16)\n",
    "pd1 = np.array([bin_dist(k, 15, 0.3) for k in range(16)])\n",
    "plt.ylim(0, 0.3)\n",
    "plt.text(12.5, 0.28, 'n, p = 15, 0.3')\n",
    "plt.bar(x, pd1, color='lightcoral')\n",
    "plt.show()"
   ]
  },
  {
   "cell_type": "markdown",
   "metadata": {},
   "source": [
    "## 3. 사건이 일어날 확률\n",
    "---\n",
    "- 이항 분포는 시행 횟수 n과 사건이 일어날 확률 p에 의해 결정된다."
   ]
  },
  {
   "cell_type": "code",
   "execution_count": null,
   "metadata": {},
   "outputs": [],
   "source": [
    "import numpy as np\n",
    "import matplotlib.pyplot as plt\n",
    "from math import factorial\n",
    "\n",
    "# Probability density of the binomial distribution\n",
    "def bin_dist(k, n, p):\n",
    "    nck = factorial(n) / (factorial(k) * factorial(n - k))\n",
    "    pd = nck * p**k * (1-p)**(n-k)\n",
    "    return pd\n",
    "\n",
    "\n",
    "x = np.arange(16)\n",
    "pd1 = np.array([bin_dist(k, 15, 0.3) for k in range(16)])\n",
    "plt.subplot(3, 1, 1)\n",
    "plt.ylim(0, 0.3)\n",
    "plt.text(12.5, 0.25, 'n, p = 15, 0.3')\n",
    "plt.bar(x, pd1, color='lightcoral')\n",
    "\n",
    "pd2 = np.array([bin_dist(k, 15, 0.5) for k in range(16)])\n",
    "plt.subplot(3, 1, 2)\n",
    "plt.ylim(0, 0.3)\n",
    "plt.text(12.5, 0.25, 'n, p = 15, 0.5')\n",
    "plt.bar(x, pd2, color='mediumaquamarine')\n",
    "\n",
    "pd3 = np.array([bin_dist(k, 15, 0.7) for k in range(16)])\n",
    "plt.subplot(3, 1, 3)\n",
    "plt.ylim(0, 0.3)\n",
    "plt.text(12.5, 0.25, 'n, p = 15, 0.7')\n",
    "plt.bar(x, pd3, color='royalblue')\n",
    "\n",
    "plt.show()"
   ]
  }
 ],
 "metadata": {
  "interpreter": {
   "hash": "709125bc3324568166aaae73d1ec683bc8fb754a7ca0393859952f5a67b588b5"
  },
  "kernelspec": {
   "display_name": "Python 3.9.7 ('base')",
   "language": "python",
   "name": "python3"
  },
  "language_info": {
   "codemirror_mode": {
    "name": "ipython",
    "version": 3
   },
   "file_extension": ".py",
   "mimetype": "text/x-python",
   "name": "python",
   "nbconvert_exporter": "python",
   "pygments_lexer": "ipython3",
   "version": "3.8.5"
  },
  "orig_nbformat": 4
 },
 "nbformat": 4,
 "nbformat_minor": 2
}
